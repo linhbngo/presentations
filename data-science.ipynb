{
 "cells": [
  {
   "cell_type": "markdown",
   "metadata": {
    "slideshow": {
     "slide_type": "slide"
    }
   },
   "source": [
    "# <center> Data Wrangling </center>\n",
    "### <center> Clemson Infrastructure and Technology Integration (CITI) </center>\n",
    "##### <center> Linh B. Ngo </center>"
   ]
  },
  {
   "cell_type": "markdown",
   "metadata": {
    "slideshow": {
     "slide_type": "slide"
    }
   },
   "source": [
    "**Wikipedia Definition:**\n",
    "- the process of manually converting or mapping data from one \"raw\" form into another format that allows for more convenient consumption of the data\n",
    "- done with the help of semi-automated tools. "
   ]
  },
  {
   "cell_type": "markdown",
   "metadata": {
    "slideshow": {
     "slide_type": "slide"
    }
   },
   "source": [
    "**Typical steps:**\n",
    "- Extracting the data in a raw form from the data source, \n",
    "- *munging* (transforming) the raw data using algorithms (e.g. sorting) or parsing the data into predefined data structures\n",
    "- depositing the resulting content into a data sink for storage and future use."
   ]
  },
  {
   "cell_type": "markdown",
   "metadata": {
    "slideshow": {
     "slide_type": "slide"
    }
   },
   "source": [
    "#### <center> Before you can ask the question, you have to understand the data! </center>"
   ]
  },
  {
   "cell_type": "markdown",
   "metadata": {
    "slideshow": {
     "slide_type": "slide"
    }
   },
   "source": [
    "- What data are you using? (Where is the data coming from? Is it structured or unstructured? How many observations does it include?)\n",
    "- How do you need to transform the data to conduct your analysis?"
   ]
  },
  {
   "cell_type": "markdown",
   "metadata": {
    "slideshow": {
     "slide_type": "slide"
    }
   },
   "source": [
    "**R**\n",
    "- Getting data\n",
    "- Cleaning data\n",
    "- Analyzing data\n",
    "- At Scale!!!"
   ]
  },
  {
   "cell_type": "markdown",
   "metadata": {
    "slideshow": {
     "slide_type": "slide"
    }
   },
   "source": [
    "**Preliminary Tools**\n",
    "- `install.packages`\n",
    "    - Simple, easy to use\n",
    "    - Limited to certified CRAN packages only\n",
    "- `devtools`\n",
    "    - Powerful, complex\n",
    "    - Allow direct installation from github repositories!\n"
   ]
  },
  {
   "cell_type": "markdown",
   "metadata": {
    "slideshow": {
     "slide_type": "slide"
    }
   },
   "source": [
    "**Getting Data**\n",
    "- `downloader`: direct download from URL\n",
    "- `RCurl`: interaction with websites (crawling) via HTTP requests\n",
    "- `twitteR`: interacting with Twitter API"
   ]
  },
  {
   "cell_type": "markdown",
   "metadata": {
    "slideshow": {
     "slide_type": "slide"
    }
   },
   "source": [
    "**Importing Data**\n",
    "- `read.csv`: standrard R core library\n",
    "- `openxlsx, readxl`\n",
    "- `googlesheets`\n",
    "- `RMySQL, RPostgreSQL, RSQLite`\n",
    "- `rhdfs, rhbase, rhive`\n",
    "- `jsonlite, rjson`\n",
    "- `XML`\n",
    "- `quantmod`"
   ]
  },
  {
   "cell_type": "markdown",
   "metadata": {
    "slideshow": {
     "slide_type": "slide"
    }
   },
   "source": [
    "**Cleaning Data (exploratory analysis)**\n",
    "- `sqldf`: SQL on data frames\n",
    "- `dplyr, plyr`: tools to interact with and manipulate data frames\n",
    "- `reshape2, tidyr`: tools to reshape data frames\n",
    "- `stringr` : text manipulation\n",
    "- `lubridate`: date manipulation\n",
    "- `zoo`: time series data\n"
   ]
  },
  {
   "cell_type": "markdown",
   "metadata": {
    "slideshow": {
     "slide_type": "slide"
    }
   },
   "source": [
    "**Analyzing Data**\n",
    "- https://cran.r-project.org/web/views/MachineLearning.html\n",
    "- https://cran.r-project.org/web/views/TimeSeries.html\n",
    "- https://cran.r-project.org/web/views/SocialSciences.html\n"
   ]
  },
  {
   "cell_type": "markdown",
   "metadata": {
    "slideshow": {
     "slide_type": "slide"
    }
   },
   "source": [
    "**At Scale!!!**\n",
    "- `parallel (snow and multicore)`: Palmetto\n",
    "- `rmr2, rhdfs, rhbase`\n",
    "- `sparkR`: Cypress"
   ]
  },
  {
   "cell_type": "markdown",
   "metadata": {
    "slideshow": {
     "slide_type": "slide"
    }
   },
   "source": [
    "**One link to find them all:**\n",
    "- http://www.maths.lancs.ac.uk/~rowlings/R/TaskViews/"
   ]
  },
  {
   "cell_type": "markdown",
   "metadata": {
    "collapsed": true,
    "slideshow": {
     "slide_type": "slide"
    }
   },
   "source": [
    "#### <center> EXAMPLES"
   ]
  }
 ],
 "metadata": {
  "celltoolbar": "Slideshow",
  "kernelspec": {
   "display_name": "Python 3",
   "language": "python",
   "name": "python3"
  },
  "language_info": {
   "codemirror_mode": {
    "name": "ipython",
    "version": 3
   },
   "file_extension": ".py",
   "mimetype": "text/x-python",
   "name": "python",
   "nbconvert_exporter": "python",
   "pygments_lexer": "ipython3",
   "version": "3.5.2"
  }
 },
 "nbformat": 4,
 "nbformat_minor": 1
}
