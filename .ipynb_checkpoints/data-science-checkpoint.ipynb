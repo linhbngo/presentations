{
 "cells": [
  {
   "cell_type": "markdown",
   "metadata": {},
   "source": [
    "# <center> Data Wrangling </center>\n",
    "### <center> Clemson Infrastructure and Technology Integration (CITI) </center>\n",
    "##### <center> Linh B. Ngo </center>"
   ]
  },
  {
   "cell_type": "markdown",
   "metadata": {},
   "source": [
    "**Wikipedia Definition:**\n",
    "- the process of manually converting or mapping data from one \"raw\" form into another format that allows for more convenient consumption of the data\n",
    "- done with the help of semi-automated tools. "
   ]
  },
  {
   "cell_type": "markdown",
   "metadata": {},
   "source": [
    "**Typical steps:**\n",
    "- Extracting the data in a raw form from the data source, \n",
    "- *munging* (transforming) the raw data using algorithms (e.g. sorting) or parsing the data into predefined data structures\n",
    "- depositing the resulting content into a data sink for storage and future use."
   ]
  },
  {
   "cell_type": "markdown",
   "metadata": {},
   "source": [
    "#### <center> Before you can ask the question, you have to understand the data! </center>"
   ]
  },
  {
   "cell_type": "markdown",
   "metadata": {},
   "source": [
    "- What data are you using? (Where is the data coming from? Is it structured or unstructured? How many observations does it include?)\n",
    "- How do you need to transform the data to conduct your analysis?"
   ]
  },
  {
   "cell_type": "markdown",
   "metadata": {},
   "source": [
    "**R**\n",
    "- Getting data\n",
    "- Cleaning data\n",
    "- Analyzing data\n",
    "- At Scale!!!"
   ]
  },
  {
   "cell_type": "markdown",
   "metadata": {},
   "source": [
    "Image goes here"
   ]
  },
  {
   "cell_type": "code",
   "execution_count": null,
   "metadata": {
    "collapsed": true
   },
   "outputs": [],
   "source": [
    "Local parallelization (demo on Jupyter)"
   ]
  },
  {
   "cell_type": "code",
   "execution_count": null,
   "metadata": {
    "collapsed": true
   },
   "outputs": [],
   "source": [
    "Streaming data acquisition through Kafka/Python"
   ]
  },
  {
   "cell_type": "code",
   "execution_count": null,
   "metadata": {
    "collapsed": true
   },
   "outputs": [],
   "source": [
    "Big Data analytics on SparkR (reddit demo)"
   ]
  }
 ],
 "metadata": {
  "kernelspec": {
   "display_name": "Python 3",
   "language": "python",
   "name": "python3"
  },
  "language_info": {
   "codemirror_mode": {
    "name": "ipython",
    "version": 3
   },
   "file_extension": ".py",
   "mimetype": "text/x-python",
   "name": "python",
   "nbconvert_exporter": "python",
   "pygments_lexer": "ipython3",
   "version": "3.5.2"
  }
 },
 "nbformat": 4,
 "nbformat_minor": 1
}
