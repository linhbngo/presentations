{
 "cells": [
  {
   "cell_type": "markdown",
   "metadata": {
    "slideshow": {
     "slide_type": "slide"
    }
   },
   "source": [
    "#### <center> At scale: Parallelization on your local computers"
   ]
  },
  {
   "cell_type": "code",
   "execution_count": 1,
   "metadata": {
    "collapsed": false,
    "slideshow": {
     "slide_type": "slide"
    }
   },
   "outputs": [
    {
     "name": "stdout",
     "output_type": "stream",
     "text": [
      "   user  system elapsed \n",
      " 13.293   0.505  32.036 \n",
      "   user  system elapsed \n",
      "  8.356   0.366  17.817 \n",
      "   user  system elapsed \n",
      "  8.239   0.321  14.694 \n",
      "   user  system elapsed \n",
      "  8.303   0.277  12.728 \n",
      "   user  system elapsed \n",
      "  7.984   0.271  11.672 \n",
      "   user  system elapsed \n",
      "  8.801   0.261  12.100 \n",
      "   user  system elapsed \n",
      "  7.690   0.239  10.523 \n",
      "   user  system elapsed \n",
      "  8.534   0.295  11.015 \n"
     ]
    }
   ],
   "source": [
    "library(parallel)\n",
    "for (i in seq(2,16,2)) {\n",
    "  cl <- makeCluster(i)\n",
    "  ptm <- proc.time()\n",
    "  parLapply(cl, 1:10000000,\n",
    "            function(exponent){\n",
    "                2^exponent\n",
    "            })\n",
    "  run.time <- proc.time() - ptm\n",
    "  stopCluster(cl)\n",
    "  print (run.time)\n",
    "}"
   ]
  },
  {
   "cell_type": "markdown",
   "metadata": {
    "slideshow": {
     "slide_type": "slide"
    }
   },
   "source": [
    "#### <center> Streaming data acquisition through Kafka and Python"
   ]
  },
  {
   "cell_type": "code",
   "execution_count": null,
   "metadata": {
    "collapsed": true
   },
   "outputs": [],
   "source": [
    "library(rkafka)"
   ]
  },
  {
   "cell_type": "code",
   "execution_count": 2,
   "metadata": {
    "collapsed": false,
    "slideshow": {
     "slide_type": "slide"
    }
   },
   "outputs": [
    {
     "name": "stdout",
     "output_type": "stream",
     "text": [
      "[1] \"Java-Object{com.musigma.consumer.MuConsumer@3db443d5}\"\n",
      "[1] \"INFO: Remember to close the consumer after done reading messages\"\n",
      "[1] \"\"\n"
     ]
    }
   ],
   "source": [
    "consumer=rkafka.createConsumer(\"localhost:2181\",\"Election20160922\")\n",
    "print(rkafka.read(consumer))\n",
    "rkafka.closeConsumer(consumer)"
   ]
  },
  {
   "cell_type": "markdown",
   "metadata": {
    "collapsed": true,
    "slideshow": {
     "slide_type": "slide"
    }
   },
   "source": [
    "#### <center> At scale: Big Data analytics on SparkR"
   ]
  },
  {
   "cell_type": "code",
   "execution_count": 3,
   "metadata": {
    "collapsed": true,
    "slideshow": {
     "slide_type": "slide"
    }
   },
   "outputs": [],
   "source": [
    "if (nchar(Sys.getenv(\"SPARK_HOME\")) < 1) {\n",
    "  Sys.setenv(SPARK_HOME = \"/usr/hdp/current/spark-client\")\n",
    "}\n",
    "\n",
    "spark_submit_args <- paste(\"--master yarn-client\",\n",
    "                           \"--executor-memory 128g\",\n",
    "                           \"--num-executors 40\",\n",
    "                           \"--executor-cores 8\",\n",
    "                           paste(\"--conf spark.executorEnv.PATH=\",\n",
    "                                 paste(Sys.getenv(\"PATH\"),\n",
    "                                       \"/software/anaconda3/2.5.0/envs/R/bin\",sep=\":\"),\n",
    "                                 sep=\"\"),\n",
    "                           \"sparkr-shell\",sep=\" \")\n",
    "\n",
    "Sys.setenv(\"SPARKR_SUBMIT_ARGS\"=spark_submit_args)"
   ]
  },
  {
   "cell_type": "code",
   "execution_count": 4,
   "metadata": {
    "collapsed": false,
    "slideshow": {
     "slide_type": "slide"
    }
   },
   "outputs": [
    {
     "name": "stderr",
     "output_type": "stream",
     "text": [
      "\n",
      "Attaching package: ‘SparkR’\n",
      "\n",
      "The following objects are masked from ‘package:stats’:\n",
      "\n",
      "    cov, filter, lag, na.omit, predict, sd, var\n",
      "\n",
      "The following objects are masked from ‘package:base’:\n",
      "\n",
      "    colnames, colnames<-, endsWith, intersect, rank, rbind, sample,\n",
      "    startsWith, subset, summary, table, transform\n",
      "\n"
     ]
    },
    {
     "name": "stdout",
     "output_type": "stream",
     "text": [
      "Launching java with spark-submit command /usr/hdp/current/spark-client/bin/spark-submit  --packages com.databricks:spark-csv_2.11:1.2.0 --master yarn-client --executor-memory 128g --num-executors 40 --executor-cores 8 --conf spark.executorEnv.PATH=/software/hdf5/1.10.0/bin:/software/openmpi/1.10.3_gcc610/bin:/software/gcc/5.3.0/bin:/software/zeromq/4.1.5/bin:/software/matlab/R2015a/toolbox/distcomp/bin:/software/matlab/R2015a/bin/glnxa64:/software/matlab/R2015a/bin:/software/anaconda3/2.5.0/bin:/home/lngo/software/jdk1.8.0_91/bin:/home/lngo/software/scala-2.10.4/bin:/usr/lib64/qt-3.3/bin:/bin:/usr/bin:/usr/local/bin:/usr/local/sbin:/usr/sbin:/sbin:/opt/ibutils/bin:/opt/mx/bin:/opt/pbs/default/bin:/opt/pbs/default/sbin:/home/lngo/bin:/software/anaconda3/2.5.0/envs/R/bin sparkr-shell /tmp/RtmpA35oYo/backend_port3c48b252a19 \n"
     ]
    }
   ],
   "source": [
    "library(SparkR, lib.loc = c(file.path(Sys.getenv(\"SPARK_HOME\"), \"R\", \"lib\")))\n",
    "sc <- sparkR.init(sparkPackages=\"com.databricks:spark-csv_2.11:1.2.0\")\n",
    "sqlContext <- sparkRSQL.init(sc)"
   ]
  },
  {
   "cell_type": "code",
   "execution_count": 5,
   "metadata": {
    "collapsed": false,
    "slideshow": {
     "slide_type": "slide"
    }
   },
   "outputs": [
    {
     "data": {
      "text/plain": [
       "   user  system elapsed \n",
       "  0.186   0.151 561.877 "
      ]
     },
     "execution_count": 5,
     "metadata": {},
     "output_type": "execute_result"
    }
   ],
   "source": [
    "ptm <- proc.time()\n",
    "reddit <- read.json(sqlContext, \"hdfs:///datasets/reddit_data/*/*.bz2\")\n",
    "proc.time() - ptm"
   ]
  },
  {
   "cell_type": "code",
   "execution_count": 6,
   "metadata": {
    "collapsed": false,
    "slideshow": {
     "slide_type": "slide"
    }
   },
   "outputs": [
    {
     "name": "stdout",
     "output_type": "stream",
     "text": [
      "root\n",
      " |-- approved_by: string (nullable = true)\n",
      " |-- archived: boolean (nullable = true)\n",
      " |-- author: string (nullable = true)\n",
      " |-- author_flair_css_class: string (nullable = true)\n",
      " |-- author_flair_text: string (nullable = true)\n",
      " |-- banned_by: string (nullable = true)\n",
      " |-- body: string (nullable = true)\n",
      " |-- body_html: string (nullable = true)\n",
      " |-- controversiality: long (nullable = true)\n",
      " |-- created: long (nullable = true)\n",
      " |-- created_utc: string (nullable = true)\n",
      " |-- distinguished: string (nullable = true)\n",
      " |-- downs: long (nullable = true)\n",
      " |-- edited: string (nullable = true)\n",
      " |-- gilded: long (nullable = true)\n",
      " |-- id: string (nullable = true)\n",
      " |-- likes: string (nullable = true)\n",
      " |-- link_id: string (nullable = true)\n",
      " |-- mod_reports: array (nullable = true)\n",
      " |    |-- element: string (containsNull = true)\n",
      " |-- name: string (nullable = true)\n",
      " |-- num_reports: string (nullable = true)\n",
      " |-- parent_id: string (nullable = true)\n",
      " |-- removal_reason: string (nullable = true)\n",
      " |-- replies: string (nullable = true)\n",
      " |-- report_reasons: string (nullable = true)\n",
      " |-- retrieved_on: long (nullable = true)\n",
      " |-- saved: boolean (nullable = true)\n",
      " |-- score: long (nullable = true)\n",
      " |-- score_hidden: boolean (nullable = true)\n",
      " |-- subreddit: string (nullable = true)\n",
      " |-- subreddit_id: string (nullable = true)\n",
      " |-- ups: long (nullable = true)\n",
      " |-- user_reports: array (nullable = true)\n",
      " |    |-- element: string (containsNull = true)\n",
      "NULL\n"
     ]
    }
   ],
   "source": [
    "print (printSchema(reddit))"
   ]
  },
  {
   "cell_type": "code",
   "execution_count": 7,
   "metadata": {
    "collapsed": false,
    "slideshow": {
     "slide_type": "slide"
    }
   },
   "outputs": [
    {
     "data": {
      "text/html": [
       "1659361605"
      ],
      "text/latex": [
       "1659361605"
      ],
      "text/markdown": [
       "1659361605"
      ],
      "text/plain": [
       "[1] 1659361605"
      ]
     },
     "execution_count": 7,
     "metadata": {},
     "output_type": "execute_result"
    },
    {
     "data": {
      "text/plain": [
       "   user  system elapsed \n",
       "  0.130   0.104 353.044 "
      ]
     },
     "execution_count": 7,
     "metadata": {},
     "output_type": "execute_result"
    }
   ],
   "source": [
    "ptm <- proc.time()\n",
    "count (reddit)\n",
    "proc.time() - ptm"
   ]
  },
  {
   "cell_type": "code",
   "execution_count": 8,
   "metadata": {
    "collapsed": true,
    "slideshow": {
     "slide_type": "slide"
    }
   },
   "outputs": [],
   "source": [
    "sparkR.stop()"
   ]
  }
 ],
 "metadata": {
  "celltoolbar": "Slideshow",
  "kernelspec": {
   "display_name": "R 3.3.1",
   "language": "R",
   "name": "r"
  },
  "language_info": {
   "codemirror_mode": "r",
   "file_extension": ".r",
   "mimetype": "text/x-r-source",
   "name": "R",
   "pygments_lexer": "r",
   "version": "3.3.1"
  }
 },
 "nbformat": 4,
 "nbformat_minor": 0
}
